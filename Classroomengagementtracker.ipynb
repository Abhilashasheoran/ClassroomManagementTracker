{
 "cells": [
  {
   "cell_type": "code",
   "execution_count": 1,
   "id": "f7429951-0d5a-4dac-98fc-2342971d763d",
   "metadata": {},
   "outputs": [],
   "source": [
    "import cv2"
   ]
  },
  {
   "cell_type": "code",
   "execution_count": 2,
   "id": "07fe1958-5a4b-4ba7-b63c-0b84c3a3caad",
   "metadata": {},
   "outputs": [],
   "source": [
    "import mediapipe as mp"
   ]
  },
  {
   "cell_type": "code",
   "execution_count": 3,
   "id": "fa41ffa5-2dff-4fb1-b47e-7cb8dff775fd",
   "metadata": {},
   "outputs": [],
   "source": [
    "import threading"
   ]
  },
  {
   "cell_type": "code",
   "execution_count": 4,
   "id": "60b4b11f-68da-4ca1-85ed-32c38aa88a83",
   "metadata": {},
   "outputs": [],
   "source": [
    "# Cell 3: Define hand raise detection and video capture in a thread\n",
    "\n",
    "mp_hands = mp.solutions.hands\n",
    "mp_drawing = mp.solutions.drawing_utils\n",
    "\n",
    "hands = mp_hands.Hands(\n",
    "    max_num_hands=10,\n",
    "    min_detection_confidence=0.7,\n",
    "    min_tracking_confidence=0.5\n",
    ")\n",
    "\n",
    "def is_hand_raised(landmarks, frame_height):\n",
    "    # Wrist landmark (index 0)\n",
    "    wrist_y = landmarks[0].y * frame_height\n",
    "    # Hand considered raised if wrist above half the frame height\n",
    "    return wrist_y < frame_height / 2\n",
    "\n",
    "def run_hand_raise_detector():\n",
    "    cap = cv2.VideoCapture(0)\n",
    "\n",
    "    while True:\n",
    "        ret, frame = cap.read()\n",
    "        if not ret:\n",
    "            print(\"Failed to grab frame\")\n",
    "            break\n",
    "\n",
    "        frame = cv2.flip(frame, 1)\n",
    "        frame_rgb = cv2.cvtColor(frame, cv2.COLOR_BGR2RGB)\n",
    "        results = hands.process(frame_rgb)\n",
    "        frame_height, frame_width, _ = frame.shape\n",
    "\n",
    "        raised_hands_count = 0\n",
    "\n",
    "        if results.multi_hand_landmarks:\n",
    "            for hand_landmarks in results.multi_hand_landmarks:\n",
    "                if is_hand_raised(hand_landmarks.landmark, frame_height):\n",
    "                    raised_hands_count += 1\n",
    "                    label = \"Hand Raised\"\n",
    "                    color = (0, 255, 0)\n",
    "                else:\n",
    "                    label = \"Hand Down\"\n",
    "                    color = (0, 0, 255)\n",
    "\n",
    "                mp_drawing.draw_landmarks(\n",
    "                    frame, hand_landmarks, mp_hands.HAND_CONNECTIONS,\n",
    "                    mp_drawing.DrawingSpec(color=color, thickness=2, circle_radius=3),\n",
    "                    mp_drawing.DrawingSpec(color=color, thickness=2)\n",
    "                )\n",
    "\n",
    "                x_coords = [lm.x for lm in hand_landmarks.landmark]\n",
    "                y_coords = [lm.y for lm in hand_landmarks.landmark]\n",
    "                xmin = int(min(x_coords) * frame_width) - 10\n",
    "                xmax = int(max(x_coords) * frame_width) + 10\n",
    "                ymin = int(min(y_coords) * frame_height) - 10\n",
    "                ymax = int(max(y_coords) * frame_height) + 10\n",
    "\n",
    "                cv2.rectangle(frame, (xmin, ymin), (xmax, ymax), color, 2)\n",
    "                cv2.putText(frame, label, (xmin, ymin - 10),\n",
    "                            cv2.FONT_HERSHEY_SIMPLEX, 0.8, color, 2)\n",
    "\n",
    "        cv2.putText(frame, f'Raised Hands: {raised_hands_count}', (10, 30),\n",
    "                    cv2.FONT_HERSHEY_SIMPLEX, 1, (255, 255, 255), 2)\n",
    "\n",
    "        cv2.imshow(\"Classroom Engagement Tracker\", frame)\n",
    "\n",
    "        key = cv2.waitKey(1)\n",
    "        if key == 27 or key == ord('q'):\n",
    "            break\n",
    "\n",
    "    cap.release()\n",
    "    cv2.destroyAllWindows()\n"
   ]
  },
  {
   "cell_type": "code",
   "execution_count": 5,
   "id": "8ff5f60f-8135-4900-a8d1-b1512f17b636",
   "metadata": {},
   "outputs": [],
   "source": [
    "# Cell 4: Run the hand raise detector function in a thread to avoid blocking notebook\n",
    "\n",
    "thread = threading.Thread(target=run_hand_raise_detector)\n",
    "thread.start()\n"
   ]
  },
  {
   "cell_type": "code",
   "execution_count": null,
   "id": "7c294028-bf5b-49d6-a4dd-454871a1d68c",
   "metadata": {},
   "outputs": [],
   "source": []
  },
  {
   "cell_type": "code",
   "execution_count": null,
   "id": "b85d3c1e-fe51-498e-9cde-5f4132b7ab01",
   "metadata": {},
   "outputs": [],
   "source": []
  },
  {
   "cell_type": "code",
   "execution_count": null,
   "id": "528e53ab-b7fc-4927-9114-1639f8592e9b",
   "metadata": {},
   "outputs": [],
   "source": []
  },
  {
   "cell_type": "code",
   "execution_count": null,
   "id": "bfbf1ab6-b5da-4e85-9650-98af1943c313",
   "metadata": {},
   "outputs": [],
   "source": []
  },
  {
   "cell_type": "code",
   "execution_count": null,
   "id": "4bd840dc-4c96-47ca-926c-236452c09cde",
   "metadata": {},
   "outputs": [],
   "source": []
  },
  {
   "cell_type": "code",
   "execution_count": null,
   "id": "d227bde2-20b5-43df-a8c6-4be939393393",
   "metadata": {},
   "outputs": [],
   "source": []
  },
  {
   "cell_type": "code",
   "execution_count": null,
   "id": "84bdffb1-5c42-415e-991d-fbf5dd187f8c",
   "metadata": {},
   "outputs": [],
   "source": []
  },
  {
   "cell_type": "code",
   "execution_count": null,
   "id": "0384fd78-18d1-437d-b56b-524e3d5c48ce",
   "metadata": {},
   "outputs": [],
   "source": []
  }
 ],
 "metadata": {
  "kernelspec": {
   "display_name": "Python 3 (ipykernel)",
   "language": "python",
   "name": "python3"
  },
  "language_info": {
   "codemirror_mode": {
    "name": "ipython",
    "version": 3
   },
   "file_extension": ".py",
   "mimetype": "text/x-python",
   "name": "python",
   "nbconvert_exporter": "python",
   "pygments_lexer": "ipython3",
   "version": "3.12.7"
  }
 },
 "nbformat": 4,
 "nbformat_minor": 5
}
